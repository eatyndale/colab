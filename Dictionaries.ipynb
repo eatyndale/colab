{
  "nbformat": 4,
  "nbformat_minor": 0,
  "metadata": {
    "colab": {
      "provenance": [],
      "toc_visible": true,
      "authorship_tag": "ABX9TyM4oSsAr7FhtVtl51XA6bCb",
      "include_colab_link": true
    },
    "kernelspec": {
      "name": "python3",
      "display_name": "Python 3"
    },
    "language_info": {
      "name": "python"
    }
  },
  "cells": [
    {
      "cell_type": "markdown",
      "metadata": {
        "id": "view-in-github",
        "colab_type": "text"
      },
      "source": [
        "<a href=\"https://colab.research.google.com/github/eatyndale/colab/blob/main/Dictionaries.ipynb\" target=\"_parent\"><img src=\"https://colab.research.google.com/assets/colab-badge.svg\" alt=\"Open In Colab\"/></a>"
      ]
    },
    {
      "cell_type": "markdown",
      "source": [
        "#Dictionary: Introduction"
      ],
      "metadata": {
        "id": "QYpKD7t3cUpP"
      }
    },
    {
      "cell_type": "code",
      "source": [
        "def get_increment(speed):\n",
        "  if speed == 'slow':\n",
        "    x_increment = 1\n",
        "  elif speed == 'medium':\n",
        "    x_increment = 2\n",
        "  else: #car_1['speed'] == 'fast':\n",
        "    x_increment = 3\n",
        "  return x_increment\n"
      ],
      "metadata": {
        "id": "dQPX-79AnZMy"
      },
      "execution_count": null,
      "outputs": []
    },
    {
      "cell_type": "code",
      "execution_count": null,
      "metadata": {
        "id": "c8xbARkEBDWQ",
        "colab": {
          "base_uri": "https://localhost:8080/"
        },
        "outputId": "fca0c2c3-01b1-4671-f38e-38b2af7d6f5e"
      },
      "outputs": [
        {
          "output_type": "stream",
          "name": "stdout",
          "text": [
            "Initial position is 1\n",
            "{'x_position': 1, 'y_position': 25, 'speed': 'fast'}\n",
            "New position is 4\n",
            "New position is 5\n",
            "New position is 2\n"
          ]
        }
      ],
      "source": [
        "car_1 = {'x_position': 1, 'y_position':25, 'speed':'medium'}\n",
        "\n",
        "# if car_1['speed'] == 'slow':\n",
        "#   x_increment = 1\n",
        "# elif car_1['speed'] == 'medium':\n",
        "#     x_increment = 2\n",
        "# else: #car_1['speed'] == 'fast':\n",
        "#     x_increment = 3\n",
        "\n",
        "#car_1 = {'x_position': 1, 'y_position':25, 'speed':'medium'}\n",
        "\n",
        "print (f\"Initial position is {car_1['x_position']}\")\n",
        "\n",
        "car_1['speed'] = 'fast'\n",
        "\n",
        "# if car_1['speed'] == 'slow':\n",
        "#   x_increment = 1\n",
        "# elif car_1['speed'] == 'medium':\n",
        "#     x_increment = 2\n",
        "# else: #car_1['speed'] == 'fast':\n",
        "#     x_increment = 3\n",
        "\n",
        "print (car_1)\n",
        "\n",
        "car_1['x_position'] = car_1['x_position'] + get_increment(car_1['speed'])\n",
        "\n",
        "\n",
        "print (f'New position is {car_1[\"x_position\"]}')\n",
        "\n",
        "car_1['speed'] = 'slow'\n",
        "\n",
        "car_1['x_position'] = car_1['x_position'] + get_increment(car_1['speed'])\n",
        "\n",
        "print (f'New position is {car_1[\"x_position\"]}')\n",
        "\n",
        "car_1['speed'] = 'fast'\n",
        "\n",
        "car_1['x_position'] = car_1['x_position'] - get_increment(car_1['speed'])\n",
        "print (f'New position is {car_1[\"x_position\"]}')\n"
      ]
    },
    {
      "cell_type": "code",
      "source": [
        "girl_0 = {'name': 'Ada', 'boyfriend': 'Obi'}\n",
        "print (f\"{girl_0['name']}'s boyfriend is {girl_0['boyfriend']}\" )\n",
        "\n",
        "girl_0 ['boyfriend'] = 'Max'\n",
        "print (f\"{girl_0['name']}'s boyfriend is now {girl_0['boyfriend']}\")"
      ],
      "metadata": {
        "id": "xZLzRoweBLlT"
      },
      "execution_count": null,
      "outputs": []
    },
    {
      "cell_type": "code",
      "source": [
        "color_1 ={'shirt': 'red', 'shoe': 'black', 'belt':'brown'}\n",
        "del color_1['belt']\n",
        "print (color_1)"
      ],
      "metadata": {
        "id": "03uPvm92G_rV"
      },
      "execution_count": null,
      "outputs": []
    },
    {
      "cell_type": "code",
      "source": [
        "favourite_language = {\n",
        "    'eddy':'c',\n",
        "    'eten':'python',\n",
        "    'dayo':'react',\n",
        "}\n",
        "\n",
        "print (f\"Eddy's favourite language is {favourite_language['eddy'].title()}\")"
      ],
      "metadata": {
        "id": "uCS6I6J_Hzgt"
      },
      "execution_count": null,
      "outputs": []
    },
    {
      "cell_type": "code",
      "source": [
        "mc_skala = {'ogx':'majid', 'mcp': 'rukky', 'icx': 'eche', 'mkt': 'jens'}\n",
        "print (mc_skala['finance']) #throws an error if the value doesnt exist, so use the \"get\" method"
      ],
      "metadata": {
        "colab": {
          "base_uri": "https://localhost:8080/",
          "height": 158
        },
        "id": "oiN6YK84Q53_",
        "outputId": "0b702971-2ec1-4ef4-c001-c9168a2e9db9"
      },
      "execution_count": null,
      "outputs": [
        {
          "output_type": "error",
          "ename": "KeyError",
          "evalue": "'finance'",
          "traceback": [
            "\u001b[0;31m---------------------------------------------------------------------------\u001b[0m",
            "\u001b[0;31mKeyError\u001b[0m                                  Traceback (most recent call last)",
            "\u001b[0;32m<ipython-input-6-bb50d22ccaee>\u001b[0m in \u001b[0;36m<cell line: 2>\u001b[0;34m()\u001b[0m\n\u001b[1;32m      1\u001b[0m \u001b[0mmc_skala\u001b[0m \u001b[0;34m=\u001b[0m \u001b[0;34m{\u001b[0m\u001b[0;34m'ogx'\u001b[0m\u001b[0;34m:\u001b[0m\u001b[0;34m'majid'\u001b[0m\u001b[0;34m,\u001b[0m \u001b[0;34m'mcp'\u001b[0m\u001b[0;34m:\u001b[0m \u001b[0;34m'rukky'\u001b[0m\u001b[0;34m,\u001b[0m \u001b[0;34m'icx'\u001b[0m\u001b[0;34m:\u001b[0m \u001b[0;34m'eche'\u001b[0m\u001b[0;34m,\u001b[0m \u001b[0;34m'mkt'\u001b[0m\u001b[0;34m:\u001b[0m \u001b[0;34m'jens'\u001b[0m\u001b[0;34m}\u001b[0m\u001b[0;34m\u001b[0m\u001b[0;34m\u001b[0m\u001b[0m\n\u001b[0;32m----> 2\u001b[0;31m \u001b[0mprint\u001b[0m \u001b[0;34m(\u001b[0m\u001b[0mmc_skala\u001b[0m\u001b[0;34m[\u001b[0m\u001b[0;34m'finance'\u001b[0m\u001b[0;34m]\u001b[0m\u001b[0;34m)\u001b[0m\u001b[0;34m\u001b[0m\u001b[0;34m\u001b[0m\u001b[0m\n\u001b[0m",
            "\u001b[0;31mKeyError\u001b[0m: 'finance'"
          ]
        }
      ]
    },
    {
      "cell_type": "code",
      "source": [
        "mc_skala = {'ogx':'majid', 'mcp': 'rukky', 'icx': 'eche', 'mkt': 'jens'}\n",
        "print (mc_skala.get('finance','no mcvp finance'))"
      ],
      "metadata": {
        "id": "8L3FUy5WR7CU"
      },
      "execution_count": null,
      "outputs": []
    },
    {
      "cell_type": "code",
      "source": [
        "mc_skala = {'ogx':'majid', 'mcp': 'rukky', 'icx': 'eche', 'mkt': 'jens'}\n",
        "mcvp_finance = mc_skala.get('finance','There is not MCVP Finance')\n",
        "print (mcvp_finance)\n",
        "print (mc_skala.get('finance','no mcvp finance'))\n",
        "print (mc_skala.get('finance')) #will throw a default error \"none\" if the value doesnt exist"
      ],
      "metadata": {
        "id": "Ettf4bUgSZYV"
      },
      "execution_count": null,
      "outputs": []
    },
    {
      "cell_type": "markdown",
      "source": [
        "#LOOPING IN A DICTIONARY\n",
        "\n",
        "\n"
      ],
      "metadata": {
        "id": "HV2Zr2P5W4v7"
      }
    },
    {
      "cell_type": "code",
      "source": [
        "mc_skala = {'ogx':'majid', 'mcp': 'rukky', 'icx': 'eche', 'mkt': 'jens'}\n",
        "for role, name in mc_skala.items():\n",
        "  print (f\"\\n Role:\\t{role.upper()}\")\n",
        "  print (f\" MCVP:\\t{name.title()}\")"
      ],
      "metadata": {
        "id": "vy8MHBo7Svvz"
      },
      "execution_count": null,
      "outputs": []
    },
    {
      "cell_type": "code",
      "source": [
        "mc_skala = {'ogx':'majid', 'mcp': 'rukky', 'icx': 'eche', 'mkt': 'jens'}\n",
        "for role, name in mc_skala.items():\n",
        "  print (f'The MC Responsible for {role.upper()} is {name.title()}.')"
      ],
      "metadata": {
        "id": "zAQJbjhhW2Fy"
      },
      "execution_count": null,
      "outputs": []
    },
    {
      "cell_type": "code",
      "source": [
        "mc_skala = {'ogx':'majid', 'mcp': 'rukky', 'icx': 'eche', 'mkt': 'jens'}\n",
        "for role in mc_skala.keys(): #The keys() method is useful when you don’t need to work with all of the values in a dictionary.\n",
        "  print (f\"{role.upper()} is available for this round\")"
      ],
      "metadata": {
        "id": "SAR8TZa9X-By"
      },
      "execution_count": null,
      "outputs": []
    },
    {
      "cell_type": "code",
      "source": [
        "mc_skala = {'ogx':'majid', 'mcp': 'rukky', 'icx': 'eche', 'mkt': 'jens'}\n",
        "for role in mc_skala: #Looping through the keys is actually the default behavior when looping through a dictionary, so this code would have exactly the same output if you wrote . . .\n",
        "  print (f\"{role.upper()} is available for this round\")"
      ],
      "metadata": {
        "id": "GWZrxQraa2SE"
      },
      "execution_count": null,
      "outputs": []
    },
    {
      "cell_type": "code",
      "source": [
        "mc_skala = {'ogx':'majid', 'mcp': 'rukky', 'icx': 'eche', 'mkt': 'jens'}\n",
        "for name in mc_skala.values():\n",
        "  print (f\"{name.title()} is on the MC\")"
      ],
      "metadata": {
        "id": "psaDCzdnYmDL"
      },
      "execution_count": null,
      "outputs": []
    },
    {
      "cell_type": "code",
      "source": [
        "mc_skala = {'ogx':'majid', 'mcp': 'rukky', 'icx': 'eche', 'mkt': 'jens'}\n",
        "open_roles = ['icx', 'ogx']\n",
        "\n",
        "for role in mc_skala.keys():\n",
        "  #print (role.upper())\n",
        "  if role in open_roles:\n",
        "    print (f\"{role.upper()} is open. contact {mc_skala[role].title()}\")\n",
        "  else:\n",
        "    print (f\"{role.upper()} is not available. {mc_skala[role].title()} is reterming\")"
      ],
      "metadata": {
        "colab": {
          "base_uri": "https://localhost:8080/"
        },
        "id": "kfgXxremZHde",
        "outputId": "b3d4fad0-08c6-4961-9b3f-f2e341fc7e15"
      },
      "execution_count": null,
      "outputs": [
        {
          "output_type": "stream",
          "name": "stdout",
          "text": [
            "OGX is open. contact Majid\n",
            "MCP is not available. Rukky is reterming\n",
            "ICX is open. contact Eche\n",
            "MKT is not available. Jens is reterming\n"
          ]
        }
      ]
    },
    {
      "cell_type": "markdown",
      "source": [
        "# DICTIONARY IN A LIST\n",
        "\n",
        "---\n"
      ],
      "metadata": {
        "id": "_0Joqhb31tec"
      }
    },
    {
      "cell_type": "code",
      "source": [
        "positions =  [{\n",
        "    'name':\"ogx\",\n",
        "    'head':'majid',\n",
        "    'is_open':True\n",
        "},\n",
        "  {\n",
        "    'name':\"mcp\",\n",
        "    'head':'rukky',\n",
        "    'is_open':False,},\n",
        "  {\n",
        "    'name':\"icx\",\n",
        "    'head':'eche',\n",
        "    'is_open':True\n",
        "},{\n",
        "    'name':\"mkt\",\n",
        "    'head':'jens',\n",
        "    'is_open':False\n",
        "}]\n",
        "\n",
        "\n",
        "positions[3]['head'] = 'elizabeth'\n",
        "\n",
        "for position in positions:\n",
        "  if position['is_open']:\n",
        "    print (f\"{position['name'].upper()} is open. contact {position['head'].title()}\")\n",
        "  else:\n",
        "    print (f\"{position['name'].upper()} is not available. {position['head'].title()} is reterming\")\n",
        "  print ()\n",
        "\n"
      ],
      "metadata": {
        "colab": {
          "base_uri": "https://localhost:8080/"
        },
        "id": "z2oqX_pvrevK",
        "outputId": "4f68c265-a355-46cc-f20e-134ddadb7b47"
      },
      "execution_count": null,
      "outputs": [
        {
          "output_type": "stream",
          "name": "stdout",
          "text": [
            "OGX is open. contact Majid\n",
            "\n",
            "MCP is not available. Rukky is reterming\n",
            "\n",
            "ICX is open. contact Eche\n",
            "\n",
            "MKT is not available. Elizabeth is reterming\n",
            "\n"
          ]
        }
      ]
    },
    {
      "cell_type": "code",
      "source": [
        "mc_skala = {'ogx':'majid', 'mcp': 'rukky', 'icx': 'eche', 'mkt': 'jens'}\n",
        "print (sorted(mc_skala.items()))"
      ],
      "metadata": {
        "id": "QbSgrwIWo2Dd"
      },
      "execution_count": null,
      "outputs": []
    },
    {
      "cell_type": "code",
      "source": [
        "roles = [\"FE\",\"BE\"]"
      ],
      "metadata": {
        "id": "WPALQ9qKG6Ib"
      },
      "execution_count": null,
      "outputs": []
    },
    {
      "cell_type": "code",
      "source": [
        "devs = []\n",
        "\n",
        "dev_1 = {\n",
        "    'role': roles[0],\n",
        "    'stack': 'react',\n",
        "    'project': 'jaiz'\n",
        "}\n",
        "\n",
        "dev_2 = {\n",
        "    'role': roles[0],\n",
        "    'stack': 'vue',\n",
        "    'project': 'docalla'\n",
        "}\n",
        "\n",
        "dev_3 = {\n",
        "    'role': roles[1],\n",
        "    'stack': 'java',\n",
        "    'project': 'jaiz'\n",
        "}\n",
        "\n",
        "dev_0 = {\n",
        "    'role': roles[1],\n",
        "    'stack': 'python',\n",
        "    'project': 'quays'\n",
        "}\n",
        "\n",
        "\n",
        "devs.append(dev_0)\n",
        "\n",
        "devs.insert(1, dev_1)\n",
        "devs.insert(2, dev_2)\n",
        "devs.insert(3, dev_3)\n",
        "\n",
        "print (devs)\n",
        "for x in devs:\n",
        "  print(x)"
      ],
      "metadata": {
        "colab": {
          "base_uri": "https://localhost:8080/"
        },
        "id": "EeCXO91qtzzW",
        "outputId": "3010d1ee-0a0a-46da-adcf-a176664e728d"
      },
      "execution_count": null,
      "outputs": [
        {
          "output_type": "stream",
          "name": "stdout",
          "text": [
            "[{'role': 'BackEnd', 'stack': 'python', 'project': 'quays'}, {'role': 'FE', 'stack': 'react', 'project': 'jaiz'}, {'role': 'FE', 'stack': 'vue', 'project': 'docalla'}, {'role': 'BackEnd', 'stack': 'java', 'project': 'jaiz'}]\n",
            "{'role': 'BackEnd', 'stack': 'python', 'project': 'quays'}\n",
            "{'role': 'FE', 'stack': 'react', 'project': 'jaiz'}\n",
            "{'role': 'FE', 'stack': 'vue', 'project': 'docalla'}\n",
            "{'role': 'BackEnd', 'stack': 'java', 'project': 'jaiz'}\n"
          ]
        }
      ]
    },
    {
      "cell_type": "code",
      "source": [
        "devs = []\n",
        "\n",
        "dev_1 = {\n",
        "    'role': 'FE',\n",
        "    'stack': 'react',\n",
        "    'project': 'jaiz'\n",
        "}\n",
        "\n",
        "dev_2 = {\n",
        "    'role': 'FE',\n",
        "    'stack': 'vue',\n",
        "    'project': 'docalla'\n",
        "}\n",
        "\n",
        "dev_3 = {\n",
        "    'role': 'BE',\n",
        "    'stack': 'java',\n",
        "    'project': 'jaiz'\n",
        "}\n",
        "\n",
        "dev_0 = {\n",
        "    'role': 'BE',\n",
        "    'stack': 'python',\n",
        "    'project': 'quays'\n",
        "}\n",
        "\n",
        "devs.append(dev_0)\n",
        "\n",
        "devs.insert(1, dev_1)\n",
        "devs.insert(2, dev_2)\n",
        "devs.insert(3, dev_3)\n",
        "\n",
        "print (devs)\n",
        "for x in devs:\n",
        "  print(x)\n",
        "\n",
        "print (\"...\")\n",
        "\n",
        "print(f\"Total number of devs: {len(devs)}\")"
      ],
      "metadata": {
        "colab": {
          "base_uri": "https://localhost:8080/"
        },
        "outputId": "16720a43-6246-4395-a692-3a8290bcce10",
        "id": "0qYD9vyVww0K"
      },
      "execution_count": null,
      "outputs": [
        {
          "output_type": "stream",
          "name": "stdout",
          "text": [
            "[{'role': 'BE', 'stack': 'python', 'project': 'quays'}, {'role': 'FE', 'stack': 'react', 'project': 'jaiz'}, {'role': 'FE', 'stack': 'vue', 'project': 'docalla'}, {'role': 'BE', 'stack': 'java', 'project': 'jaiz'}]\n",
            "{'role': 'BE', 'stack': 'python', 'project': 'quays'}\n",
            "{'role': 'FE', 'stack': 'react', 'project': 'jaiz'}\n",
            "{'role': 'FE', 'stack': 'vue', 'project': 'docalla'}\n",
            "{'role': 'BE', 'stack': 'java', 'project': 'jaiz'}\n",
            "...\n",
            "Total number of devs: 4\n"
          ]
        }
      ]
    },
    {
      "cell_type": "markdown",
      "source": [
        "**bold text**\n",
        "\n",
        "---\n",
        "\n"
      ],
      "metadata": {
        "id": "P4QRHw9P1lgO"
      }
    },
    {
      "cell_type": "code",
      "source": [
        "devs = []\n",
        "\n",
        "dev_1 = {\n",
        "    'role': 'FE',\n",
        "    'stack': 'react',\n",
        "    'project': 'jaiz'\n",
        "}\n",
        "\n",
        "dev_2 = {\n",
        "    'role': 'FE',\n",
        "    'stack': 'vue',\n",
        "    'project': 'docalla'\n",
        "}\n",
        "\n",
        "dev_3 = {\n",
        "    'role': 'BE',\n",
        "    'stack': 'java',\n",
        "    'project': 'jaiz'\n",
        "}\n",
        "\n",
        "dev_0 = {\n",
        "    'role': 'BE',\n",
        "    'stack': 'python',\n",
        "    'project': 'quays'\n",
        "}\n",
        "\n",
        "print (devs)\n",
        "for r in devs:\n",
        "  print(r)\n",
        "\n",
        "print(\"...../1\")\n",
        "\n",
        "\n",
        "for dev_number in range(1):\n",
        "  devs.append(dev_0)\n",
        "  devs.insert(1, dev_1)\n",
        "  devs.insert(2, dev_2)\n",
        "  devs.insert(3, dev_3)\n",
        "\n",
        "for dev in devs [:3]:\n",
        "  if dev ['project'] == 'quays':\n",
        "    dev ['project'] = 'mintyn'\n",
        "  elif dev ['stack'] == 'react':\n",
        "    dev ['stack'] = 'angular'\n",
        "\n",
        "\n",
        "\n",
        "print (devs)\n",
        "for x in devs:\n",
        "  print(x)\n",
        "\n",
        "print (\"...\")\n",
        "\n",
        "print(f\"Total number of devs: {len(devs)}\")"
      ],
      "metadata": {
        "colab": {
          "base_uri": "https://localhost:8080/"
        },
        "outputId": "d6f5cd27-91b6-4d60-a9f6-06de13fd83aa",
        "id": "eDYQF0jpxpoq"
      },
      "execution_count": null,
      "outputs": [
        {
          "output_type": "stream",
          "name": "stdout",
          "text": [
            "[]\n",
            "...../1\n",
            "[{'role': 'BE', 'stack': 'python', 'project': 'mintyn'}, {'role': 'FE', 'stack': 'angular', 'project': 'jaiz'}, {'role': 'FE', 'stack': 'vue', 'project': 'docalla'}, {'role': 'BE', 'stack': 'java', 'project': 'jaiz'}]\n",
            "{'role': 'BE', 'stack': 'python', 'project': 'mintyn'}\n",
            "{'role': 'FE', 'stack': 'angular', 'project': 'jaiz'}\n",
            "{'role': 'FE', 'stack': 'vue', 'project': 'docalla'}\n",
            "{'role': 'BE', 'stack': 'java', 'project': 'jaiz'}\n",
            "...\n",
            "Total number of devs: 4\n"
          ]
        }
      ]
    },
    {
      "cell_type": "markdown",
      "source": [
        "#LISTS IN A DICTIONARY\n",
        "\n",
        "---\n",
        "\n"
      ],
      "metadata": {
        "id": "I5jmQpCRglTY"
      }
    },
    {
      "cell_type": "code",
      "source": [
        "roles = ['FE', 'BE', 'FS']\n",
        "stacks = ['angular', 'vue','mongoDB','react','django', '']"
      ],
      "metadata": {
        "id": "4vuhbne3dPuE"
      },
      "execution_count": null,
      "outputs": []
    },
    {
      "cell_type": "code",
      "source": [
        "alien_0 = {'color': 'green', 'points': 5}\n",
        "alien_1 = {'color': 'yellow', 'points': 10}\n",
        "alien_2 = {'color': 'red', 'points': 15}\n",
        "aliens = [alien_0, alien_1, alien_2]\n",
        "for alien in aliens:\n",
        "  print(alien)"
      ],
      "metadata": {
        "colab": {
          "base_uri": "https://localhost:8080/"
        },
        "id": "hzA_Ni6bftY_",
        "outputId": "72fdc480-5eee-4297-c297-c76628207692"
      },
      "execution_count": null,
      "outputs": [
        {
          "output_type": "stream",
          "name": "stdout",
          "text": [
            "{'color': 'green', 'points': 5}\n",
            "{'color': 'yellow', 'points': 10}\n",
            "{'color': 'red', 'points': 15}\n"
          ]
        }
      ]
    },
    {
      "cell_type": "markdown",
      "source": [
        "**DICTIONARIES IN A DICTIONARY**"
      ],
      "metadata": {
        "id": "eWUFIW4jWneH"
      }
    },
    {
      "cell_type": "markdown",
      "source": [
        "# DICTIONARIES IN A DICTIONARY"
      ],
      "metadata": {
        "id": "YSJcUjk8b1Mi"
      }
    },
    {
      "cell_type": "code",
      "source": [
        "professors = {\n",
        "'aeinstein': {\n",
        "'first': 'albert',\n",
        "'last': 'einstein',\n",
        "'location': 'princeton',\n",
        "},\n",
        "'mcurie': {\n",
        "'first': 'marie',\n",
        "'last': 'curie',\n",
        "'location': 'paris',\n",
        "},\n",
        "}\n",
        "for professor, professor_info in professors.items():\n",
        "  print(f\"\\nUsername: {professor}\")\n",
        "  full_name = f\"{professor_info['first']} {professor_info['last']}\"\n",
        "  location = professor_info['location']\n",
        "  print(f\"\\tFull name: {full_name.title()}\")\n",
        "  print(f\"\\tLocation: {location.title()}\")\n",
        "\n",
        "full_name = f\"{professor_info['first']} {professor_info['last']}\"\n",
        "location = professor_info['location']\n",
        "print(f\"\\tFull name: {full_name.title()}\")\n",
        "print(f\"\\tLocation: {location.title()}\")"
      ],
      "metadata": {
        "colab": {
          "base_uri": "https://localhost:8080/"
        },
        "id": "lnIn4bdQXv6a",
        "outputId": "c158faa8-a6b3-47e4-ac5a-a1e80da90a2a"
      },
      "execution_count": null,
      "outputs": [
        {
          "output_type": "stream",
          "name": "stdout",
          "text": [
            "\n",
            "Username: aeinstein\n",
            "\tFull name: Albert Einstein\n",
            "\tLocation: Princeton\n",
            "\n",
            "Username: mcurie\n",
            "\tFull name: Marie Curie\n",
            "\tLocation: Paris\n",
            "\tFull name: Marie Curie\n",
            "\tLocation: Paris\n"
          ]
        }
      ]
    },
    {
      "cell_type": "code",
      "source": [],
      "metadata": {
        "id": "l4A7Sb79aMcL"
      },
      "execution_count": null,
      "outputs": []
    },
    {
      "cell_type": "code",
      "source": [
        "professors = {\n",
        "'aeinstein': {\n",
        "'first': 'albert',\n",
        "'last': 'einstein',\n",
        "'location': 'princeton',\n",
        "},\n",
        "'mcurie': {\n",
        "'first': 'marie',\n",
        "'last': 'curie',\n",
        "'location': 'paris',\n",
        "},\n",
        "}\n",
        "for professor, professor_info in professors.items():\n",
        "  full_name = f\"{professor_info['first']} {professor_info['last']}\"\n",
        "  location = professor_info['location']\n",
        "  print(f\"\\nUsername: {professor}\")\n",
        "  print(f\"\\tFull name: {full_name.title()}\")\n",
        "  print(f\"\\tLocation: {location.title()}\")\n",
        "\n"
      ],
      "metadata": {
        "colab": {
          "base_uri": "https://localhost:8080/"
        },
        "outputId": "7f7c42fc-d8b0-4123-e697-382f1e3bdd50",
        "id": "EgTXRZbTaM0Q"
      },
      "execution_count": null,
      "outputs": [
        {
          "output_type": "stream",
          "name": "stdout",
          "text": [
            "\n",
            "Username: aeinstein\n",
            "\tFull name: Albert Einstein\n",
            "\tLocation: Princeton\n",
            "\n",
            "Username: mcurie\n",
            "\tFull name: Marie Curie\n",
            "\tLocation: Paris\n"
          ]
        }
      ]
    }
  ]
}