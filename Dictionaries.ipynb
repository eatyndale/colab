{
  "nbformat": 4,
  "nbformat_minor": 0,
  "metadata": {
    "colab": {
      "provenance": [],
      "authorship_tag": "ABX9TyPpxpNV515SoE0fCAcIxkZq",
      "include_colab_link": true
    },
    "kernelspec": {
      "name": "python3",
      "display_name": "Python 3"
    },
    "language_info": {
      "name": "python"
    }
  },
  "cells": [
    {
      "cell_type": "markdown",
      "metadata": {
        "id": "view-in-github",
        "colab_type": "text"
      },
      "source": [
        "<a href=\"https://colab.research.google.com/github/eatyndale/colab/blob/main/Dictionaries.ipynb\" target=\"_parent\"><img src=\"https://colab.research.google.com/assets/colab-badge.svg\" alt=\"Open In Colab\"/></a>"
      ]
    },
    {
      "cell_type": "code",
      "source": [
        "def get_increment(speed):\n",
        "  if speed == 'slow':\n",
        "    x_increment = 1\n",
        "  elif speed == 'medium':\n",
        "    x_increment = 2\n",
        "  else: #car_1['speed'] == 'fast':\n",
        "    x_increment = 3\n",
        "  return x_increment\n"
      ],
      "metadata": {
        "id": "dQPX-79AnZMy"
      },
      "execution_count": 5,
      "outputs": []
    },
    {
      "cell_type": "code",
      "execution_count": 10,
      "metadata": {
        "id": "c8xbARkEBDWQ",
        "colab": {
          "base_uri": "https://localhost:8080/"
        },
        "outputId": "fca0c2c3-01b1-4671-f38e-38b2af7d6f5e"
      },
      "outputs": [
        {
          "output_type": "stream",
          "name": "stdout",
          "text": [
            "Initial position is 1\n",
            "{'x_position': 1, 'y_position': 25, 'speed': 'fast'}\n",
            "New position is 4\n",
            "New position is 5\n",
            "New position is 2\n"
          ]
        }
      ],
      "source": [
        "car_1 = {'x_position': 1, 'y_position':25, 'speed':'medium'}\n",
        "\n",
        "# if car_1['speed'] == 'slow':\n",
        "#   x_increment = 1\n",
        "# elif car_1['speed'] == 'medium':\n",
        "#     x_increment = 2\n",
        "# else: #car_1['speed'] == 'fast':\n",
        "#     x_increment = 3\n",
        "\n",
        "#car_1 = {'x_position': 1, 'y_position':25, 'speed':'medium'}\n",
        "\n",
        "print (f\"Initial position is {car_1['x_position']}\")\n",
        "\n",
        "car_1['speed'] = 'fast'\n",
        "\n",
        "# if car_1['speed'] == 'slow':\n",
        "#   x_increment = 1\n",
        "# elif car_1['speed'] == 'medium':\n",
        "#     x_increment = 2\n",
        "# else: #car_1['speed'] == 'fast':\n",
        "#     x_increment = 3\n",
        "\n",
        "print (car_1)\n",
        "\n",
        "car_1['x_position'] = car_1['x_position'] + get_increment(car_1['speed'])\n",
        "\n",
        "\n",
        "print (f'New position is {car_1[\"x_position\"]}')\n",
        "\n",
        "car_1['speed'] = 'slow'\n",
        "\n",
        "car_1['x_position'] = car_1['x_position'] + get_increment(car_1['speed'])\n",
        "\n",
        "print (f'New position is {car_1[\"x_position\"]}')\n",
        "\n",
        "car_1['speed'] = 'fast'\n",
        "\n",
        "car_1['x_position'] = car_1['x_position'] - get_increment(car_1['speed'])\n",
        "print (f'New position is {car_1[\"x_position\"]}')\n"
      ]
    },
    {
      "cell_type": "code",
      "source": [
        "girl_0 = {'name': 'Ada', 'boyfriend': 'Obi'}\n",
        "print (f\"{girl_0['name']}'s boyfriend is {girl_0['boyfriend']}\" )\n",
        "\n",
        "girl_0 ['boyfriend'] = 'Max'\n",
        "print (f\"{girl_0['name']}'s boyfriend is now {girl_0['boyfriend']}\")"
      ],
      "metadata": {
        "id": "xZLzRoweBLlT"
      },
      "execution_count": null,
      "outputs": []
    },
    {
      "cell_type": "code",
      "source": [
        "color_1 ={'shirt': 'red', 'shoe': 'black', 'belt':'brown'}\n",
        "del color_1['belt']\n",
        "print (color_1)"
      ],
      "metadata": {
        "id": "03uPvm92G_rV"
      },
      "execution_count": null,
      "outputs": []
    },
    {
      "cell_type": "code",
      "source": [
        "favourite_language = {\n",
        "    'eddy':'c',\n",
        "    'eten':'python',\n",
        "    'dayo':'react',\n",
        "}\n",
        "\n",
        "print (f\"Eddy's favourite language is {favourite_language['eddy'].title()}\")"
      ],
      "metadata": {
        "id": "uCS6I6J_Hzgt"
      },
      "execution_count": null,
      "outputs": []
    },
    {
      "cell_type": "code",
      "source": [
        "mc_skala = {'ogx':'majid', 'mcp': 'rukky', 'icx': 'eche', 'mkt': 'jens'}\n",
        "print (mc_skala['finance']) #throws an error if the value doesnt exist, so use the \"get\" method"
      ],
      "metadata": {
        "colab": {
          "base_uri": "https://localhost:8080/",
          "height": 158
        },
        "id": "oiN6YK84Q53_",
        "outputId": "0b702971-2ec1-4ef4-c001-c9168a2e9db9"
      },
      "execution_count": null,
      "outputs": [
        {
          "output_type": "error",
          "ename": "KeyError",
          "evalue": "'finance'",
          "traceback": [
            "\u001b[0;31m---------------------------------------------------------------------------\u001b[0m",
            "\u001b[0;31mKeyError\u001b[0m                                  Traceback (most recent call last)",
            "\u001b[0;32m<ipython-input-6-bb50d22ccaee>\u001b[0m in \u001b[0;36m<cell line: 2>\u001b[0;34m()\u001b[0m\n\u001b[1;32m      1\u001b[0m \u001b[0mmc_skala\u001b[0m \u001b[0;34m=\u001b[0m \u001b[0;34m{\u001b[0m\u001b[0;34m'ogx'\u001b[0m\u001b[0;34m:\u001b[0m\u001b[0;34m'majid'\u001b[0m\u001b[0;34m,\u001b[0m \u001b[0;34m'mcp'\u001b[0m\u001b[0;34m:\u001b[0m \u001b[0;34m'rukky'\u001b[0m\u001b[0;34m,\u001b[0m \u001b[0;34m'icx'\u001b[0m\u001b[0;34m:\u001b[0m \u001b[0;34m'eche'\u001b[0m\u001b[0;34m,\u001b[0m \u001b[0;34m'mkt'\u001b[0m\u001b[0;34m:\u001b[0m \u001b[0;34m'jens'\u001b[0m\u001b[0;34m}\u001b[0m\u001b[0;34m\u001b[0m\u001b[0;34m\u001b[0m\u001b[0m\n\u001b[0;32m----> 2\u001b[0;31m \u001b[0mprint\u001b[0m \u001b[0;34m(\u001b[0m\u001b[0mmc_skala\u001b[0m\u001b[0;34m[\u001b[0m\u001b[0;34m'finance'\u001b[0m\u001b[0;34m]\u001b[0m\u001b[0;34m)\u001b[0m\u001b[0;34m\u001b[0m\u001b[0;34m\u001b[0m\u001b[0m\n\u001b[0m",
            "\u001b[0;31mKeyError\u001b[0m: 'finance'"
          ]
        }
      ]
    },
    {
      "cell_type": "code",
      "source": [
        "mc_skala = {'ogx':'majid', 'mcp': 'rukky', 'icx': 'eche', 'mkt': 'jens'}\n",
        "print (mc_skala.get('finance','no mcvp finance'))"
      ],
      "metadata": {
        "id": "8L3FUy5WR7CU"
      },
      "execution_count": null,
      "outputs": []
    },
    {
      "cell_type": "code",
      "source": [
        "mc_skala = {'ogx':'majid', 'mcp': 'rukky', 'icx': 'eche', 'mkt': 'jens'}\n",
        "mcvp_finance = mc_skala.get('finance','There is not MCVP Finance')\n",
        "print (mcvp_finance)\n",
        "print (mc_skala.get('finance','no mcvp finance'))\n",
        "print (mc_skala.get('finance')) #will throw a default error \"none\" if the value doesnt exist"
      ],
      "metadata": {
        "id": "Ettf4bUgSZYV"
      },
      "execution_count": null,
      "outputs": []
    },
    {
      "cell_type": "markdown",
      "source": [
        "**LOOPING IN A DICTIONARY**\n",
        "\n",
        "---\n",
        "\n"
      ],
      "metadata": {
        "id": "HV2Zr2P5W4v7"
      }
    },
    {
      "cell_type": "code",
      "source": [
        "mc_skala = {'ogx':'majid', 'mcp': 'rukky', 'icx': 'eche', 'mkt': 'jens'}\n",
        "for role, name in mc_skala.items():\n",
        "  print (f\"\\n Role:\\t{role.upper()}\")\n",
        "  print (f\" MCVP:\\t{name.title()}\")"
      ],
      "metadata": {
        "id": "vy8MHBo7Svvz"
      },
      "execution_count": null,
      "outputs": []
    },
    {
      "cell_type": "code",
      "source": [
        "mc_skala = {'ogx':'majid', 'mcp': 'rukky', 'icx': 'eche', 'mkt': 'jens'}\n",
        "for role, name in mc_skala.items():\n",
        "  print (f'The MC Responsible for {role.upper()} is {name.title()}.')"
      ],
      "metadata": {
        "id": "zAQJbjhhW2Fy"
      },
      "execution_count": null,
      "outputs": []
    },
    {
      "cell_type": "code",
      "source": [
        "mc_skala = {'ogx':'majid', 'mcp': 'rukky', 'icx': 'eche', 'mkt': 'jens'}\n",
        "for role in mc_skala.keys(): #The keys() method is useful when you don’t need to work with all of the values in a dictionary.\n",
        "  print (f\"{role.upper()} is available for this round\")"
      ],
      "metadata": {
        "id": "SAR8TZa9X-By"
      },
      "execution_count": null,
      "outputs": []
    },
    {
      "cell_type": "code",
      "source": [
        "mc_skala = {'ogx':'majid', 'mcp': 'rukky', 'icx': 'eche', 'mkt': 'jens'}\n",
        "for role in mc_skala: #Looping through the keys is actually the default behavior when looping through a dictionary, so this code would have exactly the same output if you wrote . . .\n",
        "  print (f\"{role.upper()} is available for this round\")"
      ],
      "metadata": {
        "id": "GWZrxQraa2SE"
      },
      "execution_count": null,
      "outputs": []
    },
    {
      "cell_type": "code",
      "source": [
        "mc_skala = {'ogx':'majid', 'mcp': 'rukky', 'icx': 'eche', 'mkt': 'jens'}\n",
        "for name in mc_skala.values():\n",
        "  print (f\"{name.title()} is on the MC\")"
      ],
      "metadata": {
        "id": "psaDCzdnYmDL"
      },
      "execution_count": null,
      "outputs": []
    },
    {
      "cell_type": "code",
      "source": [
        "mc_skala = {'ogx':'majid', 'mcp': 'rukky', 'icx': 'eche', 'mkt': 'jens'}\n",
        "open_roles = ['icx', 'ogx']\n",
        "\n",
        "for role in mc_skala.keys():\n",
        "  #print (role.upper())\n",
        "  if role in open_roles:\n",
        "    print (f\"{role.upper()} is open. contact {mc_skala[role].title()}\")\n",
        "  else:\n",
        "    print (f\"{role.upper()} is not available. {mc_skala[role].title()} is reterming\")"
      ],
      "metadata": {
        "colab": {
          "base_uri": "https://localhost:8080/"
        },
        "id": "kfgXxremZHde",
        "outputId": "692acfcd-28ba-4a73-bcda-e4e3eda661ec"
      },
      "execution_count": null,
      "outputs": [
        {
          "output_type": "stream",
          "name": "stdout",
          "text": [
            "OGX is open. contact Majid\n",
            "MCP is not available. Rukky is reterming\n",
            "ICX is open. contact Eche\n",
            "MKT is not available. Jens is reterming\n"
          ]
        }
      ]
    }
  ]
}